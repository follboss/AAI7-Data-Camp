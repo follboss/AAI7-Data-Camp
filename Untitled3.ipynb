{
  "nbformat": 4,
  "nbformat_minor": 0,
  "metadata": {
    "colab": {
      "provenance": [],
      "mount_file_id": "1OrlxJIVH0G2KtboJCuNl3xteFABrwxWR",
      "authorship_tag": "ABX9TyPsVbk9Q+5V2MQvvzTdf82O",
      "include_colab_link": true
    },
    "kernelspec": {
      "name": "python3",
      "display_name": "Python 3"
    },
    "language_info": {
      "name": "python"
    }
  },
  "cells": [
    {
      "cell_type": "markdown",
      "metadata": {
        "id": "view-in-github",
        "colab_type": "text"
      },
      "source": [
        "<a href=\"https://colab.research.google.com/github/follboss/AAI7-Data-Camp/blob/main/Untitled3.ipynb\" target=\"_parent\"><img src=\"https://colab.research.google.com/assets/colab-badge.svg\" alt=\"Open In Colab\"/></a>"
      ]
    },
    {
      "cell_type": "code",
      "execution_count": 3,
      "metadata": {
        "colab": {
          "base_uri": "https://localhost:8080/"
        },
        "id": "95xHOItLj0yz",
        "outputId": "81a2bc95-cfec-448c-bdcf-5edadfbd6460"
      },
      "outputs": [
        {
          "output_type": "stream",
          "name": "stdout",
          "text": [
            "Number of nodes: 166986\n",
            "Number of edges: 591017\n"
          ]
        }
      ],
      "source": [
        "import networkx as nx\n",
        "\n",
        "# Création d'un graphe dirigé\n",
        "G = nx.read_edgelist(\"edgelist.txt\", nodetype=int, create_using=nx.DiGraph)\n",
        "print('Number of nodes:', G.number_of_nodes())\n",
        "print('Number of edges:', G.number_of_edges())\n"
      ]
    },
    {
      "cell_type": "code",
      "source": [
        "# Lecture des données d'entraînement\n",
        "train_papers = []\n",
        "y_train = []\n",
        "with open(\"y_train.txt\", \"r\") as f:\n",
        "    for line in f:\n",
        "        t = line.split(',')\n",
        "        train_papers.append(int(t[0]))\n",
        "        y_train.append(int(t[1].strip()))\n",
        "\n",
        "# Lecture des données de test\n",
        "test_papers = []\n",
        "with open(\"test.txt\", \"r\") as f:\n",
        "    for line in f:\n",
        "        test_papers.append(int(line.strip()))\n"
      ],
      "metadata": {
        "colab": {
          "base_uri": "https://localhost:8080/",
          "height": 180
        },
        "id": "mVjJyi42vOHX",
        "outputId": "2c7de2c8-333a-41c0-f740-0becb39d4a7c"
      },
      "execution_count": 4,
      "outputs": [
        {
          "output_type": "error",
          "ename": "ValueError",
          "evalue": "invalid literal for int() with base 10: '27,'",
          "traceback": [
            "\u001b[0;31m---------------------------------------------------------------------------\u001b[0m",
            "\u001b[0;31mValueError\u001b[0m                                Traceback (most recent call last)",
            "\u001b[0;32m<ipython-input-4-ce2a46146a1c>\u001b[0m in \u001b[0;36m<cell line: 12>\u001b[0;34m()\u001b[0m\n\u001b[1;32m     12\u001b[0m \u001b[0;32mwith\u001b[0m \u001b[0mopen\u001b[0m\u001b[0;34m(\u001b[0m\u001b[0;34m\"test.txt\"\u001b[0m\u001b[0;34m,\u001b[0m \u001b[0;34m\"r\"\u001b[0m\u001b[0;34m)\u001b[0m \u001b[0;32mas\u001b[0m \u001b[0mf\u001b[0m\u001b[0;34m:\u001b[0m\u001b[0;34m\u001b[0m\u001b[0;34m\u001b[0m\u001b[0m\n\u001b[1;32m     13\u001b[0m     \u001b[0;32mfor\u001b[0m \u001b[0mline\u001b[0m \u001b[0;32min\u001b[0m \u001b[0mf\u001b[0m\u001b[0;34m:\u001b[0m\u001b[0;34m\u001b[0m\u001b[0;34m\u001b[0m\u001b[0m\n\u001b[0;32m---> 14\u001b[0;31m         \u001b[0mtest_papers\u001b[0m\u001b[0;34m.\u001b[0m\u001b[0mappend\u001b[0m\u001b[0;34m(\u001b[0m\u001b[0mint\u001b[0m\u001b[0;34m(\u001b[0m\u001b[0mline\u001b[0m\u001b[0;34m.\u001b[0m\u001b[0mstrip\u001b[0m\u001b[0;34m(\u001b[0m\u001b[0;34m)\u001b[0m\u001b[0;34m)\u001b[0m\u001b[0;34m)\u001b[0m\u001b[0;34m\u001b[0m\u001b[0;34m\u001b[0m\u001b[0m\n\u001b[0m",
            "\u001b[0;31mValueError\u001b[0m: invalid literal for int() with base 10: '27,'"
          ]
        }
      ]
    }
  ]
}