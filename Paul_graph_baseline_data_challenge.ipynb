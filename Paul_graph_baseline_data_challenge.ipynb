{
  "nbformat": 4,
  "nbformat_minor": 0,
  "metadata": {
    "colab": {
      "provenance": [],
      "authorship_tag": "ABX9TyMXZ+aKMZoawCoLmNDTMvNr",
      "include_colab_link": true
    },
    "kernelspec": {
      "name": "python3",
      "display_name": "Python 3"
    },
    "language_info": {
      "name": "python"
    }
  },
  "cells": [
    {
      "cell_type": "markdown",
      "metadata": {
        "id": "view-in-github",
        "colab_type": "text"
      },
      "source": [
        "<a href=\"https://colab.research.google.com/github/follboss/AAI7-Data-Camp/blob/main/Paul_graph_baseline_data_challenge.ipynb\" target=\"_parent\"><img src=\"https://colab.research.google.com/assets/colab-badge.svg\" alt=\"Open In Colab\"/></a>"
      ]
    },
    {
      "cell_type": "code",
      "source": [
        "from google.colab import drive\n",
        "drive.mount('/content/drive')"
      ],
      "metadata": {
        "colab": {
          "base_uri": "https://localhost:8080/"
        },
        "id": "WtN6Fj3ppCRS",
        "outputId": "908a4eeb-9b28-4058-c338-1efd59a97a30"
      },
      "execution_count": 4,
      "outputs": [
        {
          "output_type": "stream",
          "name": "stdout",
          "text": [
            "Mounted at /content/drive\n"
          ]
        }
      ]
    },
    {
      "cell_type": "code",
      "source": [
        "import csv\n",
        "import numpy as np\n",
        "import networkx as nx\n",
        "\n",
        "from sklearn.linear_model import LogisticRegression\n",
        "from sklearn.metrics import accuracy_score,log_loss"
      ],
      "metadata": {
        "id": "u2oWZfShsSYK"
      },
      "execution_count": 5,
      "outputs": []
    },
    {
      "cell_type": "code",
      "source": [
        "# Create a directed graph\n",
        "G = nx.read_edgelist(\"/content/drive/MyDrive/edgelist.txt\", nodetype=int, create_using=nx.DiGraph)\n",
        "print('Number of nodes:', G.number_of_nodes())\n",
        "print('Number of edges:', G.number_of_edges())"
      ],
      "metadata": {
        "colab": {
          "base_uri": "https://localhost:8080/"
        },
        "id": "PFuFNvgtsjY0",
        "outputId": "290b3507-838d-415f-c689-64c966044140"
      },
      "execution_count": 6,
      "outputs": [
        {
          "output_type": "stream",
          "name": "stdout",
          "text": [
            "Number of nodes: 166986\n",
            "Number of edges: 591017\n"
          ]
        }
      ]
    },
    {
      "cell_type": "code",
      "source": [
        "gcc_nodes = max(nx.connected_components(G), key=len)\n",
        "gcc = G.subgraph(gcc_nodes)\n",
        "\n",
        "print(\"Nodes of largest connected component\", gcc.number_of_nodes())\n",
        "print(\"Edges of largest connected component\", gcc.number_of_edges())"
      ],
      "metadata": {
        "colab": {
          "base_uri": "https://localhost:8080/",
          "height": 356
        },
        "id": "W7Ya5HRXxBds",
        "outputId": "1b9fe250-8929-4595-885e-d172b2c970d9"
      },
      "execution_count": 13,
      "outputs": [
        {
          "output_type": "error",
          "ename": "NetworkXNotImplemented",
          "evalue": "not implemented for directed type",
          "traceback": [
            "\u001b[0;31m---------------------------------------------------------------------------\u001b[0m",
            "\u001b[0;31mNetworkXNotImplemented\u001b[0m                    Traceback (most recent call last)",
            "\u001b[0;32m<ipython-input-13-ddea9c716106>\u001b[0m in \u001b[0;36m<cell line: 1>\u001b[0;34m()\u001b[0m\n\u001b[0;32m----> 1\u001b[0;31m \u001b[0mgcc_nodes\u001b[0m \u001b[0;34m=\u001b[0m \u001b[0mmax\u001b[0m\u001b[0;34m(\u001b[0m\u001b[0mnx\u001b[0m\u001b[0;34m.\u001b[0m\u001b[0mconnected_components\u001b[0m\u001b[0;34m(\u001b[0m\u001b[0mG\u001b[0m\u001b[0;34m)\u001b[0m\u001b[0;34m,\u001b[0m \u001b[0mkey\u001b[0m\u001b[0;34m=\u001b[0m\u001b[0mlen\u001b[0m\u001b[0;34m)\u001b[0m\u001b[0;34m\u001b[0m\u001b[0;34m\u001b[0m\u001b[0m\n\u001b[0m\u001b[1;32m      2\u001b[0m \u001b[0mgcc\u001b[0m \u001b[0;34m=\u001b[0m \u001b[0mG\u001b[0m\u001b[0;34m.\u001b[0m\u001b[0msubgraph\u001b[0m\u001b[0;34m(\u001b[0m\u001b[0mgcc_nodes\u001b[0m\u001b[0;34m)\u001b[0m\u001b[0;34m\u001b[0m\u001b[0;34m\u001b[0m\u001b[0m\n\u001b[1;32m      3\u001b[0m \u001b[0;34m\u001b[0m\u001b[0m\n\u001b[1;32m      4\u001b[0m \u001b[0mprint\u001b[0m\u001b[0;34m(\u001b[0m\u001b[0;34m\"Nodes of largest connected component\"\u001b[0m\u001b[0;34m,\u001b[0m \u001b[0mgcc\u001b[0m\u001b[0;34m.\u001b[0m\u001b[0mnumber_of_nodes\u001b[0m\u001b[0;34m(\u001b[0m\u001b[0;34m)\u001b[0m\u001b[0;34m)\u001b[0m\u001b[0;34m\u001b[0m\u001b[0;34m\u001b[0m\u001b[0m\n\u001b[1;32m      5\u001b[0m \u001b[0mprint\u001b[0m\u001b[0;34m(\u001b[0m\u001b[0;34m\"Edges of largest connected component\"\u001b[0m\u001b[0;34m,\u001b[0m \u001b[0mgcc\u001b[0m\u001b[0;34m.\u001b[0m\u001b[0mnumber_of_edges\u001b[0m\u001b[0;34m(\u001b[0m\u001b[0;34m)\u001b[0m\u001b[0;34m)\u001b[0m\u001b[0;34m\u001b[0m\u001b[0;34m\u001b[0m\u001b[0m\n",
            "\u001b[0;32m/usr/local/lib/python3.10/dist-packages/networkx/utils/decorators.py\u001b[0m in \u001b[0;36mfunc\u001b[0;34m(_argmap__wrapper, *args, **kwargs)\u001b[0m\n\u001b[1;32m    787\u001b[0m \u001b[0;34m\u001b[0m\u001b[0m\n\u001b[1;32m    788\u001b[0m         \u001b[0;32mdef\u001b[0m \u001b[0mfunc\u001b[0m\u001b[0;34m(\u001b[0m\u001b[0;34m*\u001b[0m\u001b[0margs\u001b[0m\u001b[0;34m,\u001b[0m \u001b[0m__wrapper\u001b[0m\u001b[0;34m=\u001b[0m\u001b[0;32mNone\u001b[0m\u001b[0;34m,\u001b[0m \u001b[0;34m**\u001b[0m\u001b[0mkwargs\u001b[0m\u001b[0;34m)\u001b[0m\u001b[0;34m:\u001b[0m\u001b[0;34m\u001b[0m\u001b[0;34m\u001b[0m\u001b[0m\n\u001b[0;32m--> 789\u001b[0;31m             \u001b[0;32mreturn\u001b[0m \u001b[0margmap\u001b[0m\u001b[0;34m.\u001b[0m\u001b[0m_lazy_compile\u001b[0m\u001b[0;34m(\u001b[0m\u001b[0m__wrapper\u001b[0m\u001b[0;34m)\u001b[0m\u001b[0;34m(\u001b[0m\u001b[0;34m*\u001b[0m\u001b[0margs\u001b[0m\u001b[0;34m,\u001b[0m \u001b[0;34m**\u001b[0m\u001b[0mkwargs\u001b[0m\u001b[0;34m)\u001b[0m\u001b[0;34m\u001b[0m\u001b[0;34m\u001b[0m\u001b[0m\n\u001b[0m\u001b[1;32m    790\u001b[0m \u001b[0;34m\u001b[0m\u001b[0m\n\u001b[1;32m    791\u001b[0m         \u001b[0;31m# standard function-wrapping stuff\u001b[0m\u001b[0;34m\u001b[0m\u001b[0;34m\u001b[0m\u001b[0m\n",
            "\u001b[0;32m/usr/local/lib/python3.10/dist-packages/networkx/utils/decorators.py\u001b[0m in \u001b[0;36margmap_connected_components_32\u001b[0;34m(G, backend, **backend_kwargs)\u001b[0m\n\u001b[1;32m      1\u001b[0m \u001b[0;32mimport\u001b[0m \u001b[0mbz2\u001b[0m\u001b[0;34m\u001b[0m\u001b[0;34m\u001b[0m\u001b[0m\n\u001b[1;32m      2\u001b[0m \u001b[0;32mimport\u001b[0m \u001b[0mcollections\u001b[0m\u001b[0;34m\u001b[0m\u001b[0;34m\u001b[0m\u001b[0m\n\u001b[0;32m----> 3\u001b[0;31m \u001b[0;32mimport\u001b[0m \u001b[0mgzip\u001b[0m\u001b[0;34m\u001b[0m\u001b[0;34m\u001b[0m\u001b[0m\n\u001b[0m\u001b[1;32m      4\u001b[0m \u001b[0;32mimport\u001b[0m \u001b[0minspect\u001b[0m\u001b[0;34m\u001b[0m\u001b[0;34m\u001b[0m\u001b[0m\n\u001b[1;32m      5\u001b[0m \u001b[0;32mimport\u001b[0m \u001b[0mitertools\u001b[0m\u001b[0;34m\u001b[0m\u001b[0;34m\u001b[0m\u001b[0m\n",
            "\u001b[0;32m/usr/local/lib/python3.10/dist-packages/networkx/utils/decorators.py\u001b[0m in \u001b[0;36m_not_implemented_for\u001b[0;34m(g)\u001b[0m\n\u001b[1;32m     90\u001b[0m             \u001b[0mdval\u001b[0m \u001b[0;32mis\u001b[0m \u001b[0;32mNone\u001b[0m \u001b[0;32mor\u001b[0m \u001b[0mdval\u001b[0m \u001b[0;34m==\u001b[0m \u001b[0mg\u001b[0m\u001b[0;34m.\u001b[0m\u001b[0mis_directed\u001b[0m\u001b[0;34m(\u001b[0m\u001b[0;34m)\u001b[0m\u001b[0;34m\u001b[0m\u001b[0;34m\u001b[0m\u001b[0m\n\u001b[1;32m     91\u001b[0m         ):\n\u001b[0;32m---> 92\u001b[0;31m             \u001b[0;32mraise\u001b[0m \u001b[0mnx\u001b[0m\u001b[0;34m.\u001b[0m\u001b[0mNetworkXNotImplemented\u001b[0m\u001b[0;34m(\u001b[0m\u001b[0merrmsg\u001b[0m\u001b[0;34m)\u001b[0m\u001b[0;34m\u001b[0m\u001b[0;34m\u001b[0m\u001b[0m\n\u001b[0m\u001b[1;32m     93\u001b[0m \u001b[0;34m\u001b[0m\u001b[0m\n\u001b[1;32m     94\u001b[0m         \u001b[0;32mreturn\u001b[0m \u001b[0mg\u001b[0m\u001b[0;34m\u001b[0m\u001b[0;34m\u001b[0m\u001b[0m\n",
            "\u001b[0;31mNetworkXNotImplemented\u001b[0m: not implemented for directed type"
          ]
        }
      ]
    },
    {
      "cell_type": "code",
      "source": [
        "# Degree\n",
        "degree_sequence = [G.degree(node) for node in G.nodes()]\n",
        "\n",
        "print(\"Max degree\",np.max(degree_sequence))\n",
        "print(\"Min degree\",np.min(degree_sequence))\n",
        "print(\"Median degree\",np.median(degree_sequence))\n",
        "print(\"Mean degree\",np.mean(degree_sequence))"
      ],
      "metadata": {
        "colab": {
          "base_uri": "https://localhost:8080/"
        },
        "id": "QoXJEjVutZgu",
        "outputId": "a7d64564-77b4-4d5a-ce38-ba3bc49b958c"
      },
      "execution_count": 8,
      "outputs": [
        {
          "output_type": "stream",
          "name": "stdout",
          "text": [
            "Max degree 1491\n",
            "Min degree 1\n",
            "Median degree 2.0\n",
            "Mean degree 7.078641323224701\n"
          ]
        }
      ]
    },
    {
      "cell_type": "code",
      "source": [
        "import matplotlib.pyplot as plt\n",
        "\n",
        "hist = nx.degree_histogram(G)\n",
        "plt.plot(hist)\n",
        "plt.xlabel(\"degree\")\n",
        "plt.ylabel(\"Frequency\")\n",
        "plt.show()"
      ],
      "metadata": {
        "colab": {
          "base_uri": "https://localhost:8080/",
          "height": 449
        },
        "id": "6qB1jnEEufyf",
        "outputId": "1cd77021-ef36-4366-9e20-24183b982756"
      },
      "execution_count": 9,
      "outputs": [
        {
          "output_type": "display_data",
          "data": {
            "text/plain": [
              "<Figure size 640x480 with 1 Axes>"
            ],
            "image/png": "[encoded data removed]"
          },
          "metadata": {}
        }
      ]
    },
    {
      "cell_type": "code",
      "source": [
        "print(\"Global clustering coeeficient\", nx.transitivity(G))"
      ],
      "metadata": {
        "colab": {
          "base_uri": "https://localhost:8080/"
        },
        "id": "HHKFLys1wfZn",
        "outputId": "dac38a3a-5e54-4dd0-f97f-8fc4c2d4c0ef"
      },
      "execution_count": 10,
      "outputs": [
        {
          "output_type": "stream",
          "name": "stdout",
          "text": [
            "Global clustering coeeficient 0.02490089301207304\n"
          ]
        }
      ]
    },
    {
      "cell_type": "code",
      "source": [
        "import networkx as nx\n",
        "import numpy as np\n",
        "from scipy.sparse.linalg import eigs\n",
        "from scipy.sparse import diags, eye\n",
        "from random import randint\n",
        "from sklearn.cluster import KMeans\n",
        "\n",
        "\n",
        "############## Task 6\n",
        "# Perform spectral clustering to partition graph G into k clusters\n",
        "def spectral_clustering(G, k):\n",
        "\n",
        "    ##################\n",
        "    # your code here #\n",
        "    ##################\n",
        "\n",
        "    N = G.number_of_nodes()\n",
        "    # 1) Compute Adj of G  -> A\n",
        "    A = nx.adjacency_matrix(G)\n",
        "\n",
        "    # 2) Compute Degree matrix -> D_inv\n",
        "    inv_degree_sequence = [ 1/G.degree(node) for node in G.nodes()] # N number of nodes\n",
        "    D_inv = diags(inv_degree_sequence)   # N x N\n",
        "\n",
        "    # 3) Compute Laplacian -> L = I -D^-1 * A\n",
        "    L = eye(N) - D_inv @ A\n",
        "\n",
        "    # 4) Eigvectors from L using eigs\n",
        "    eig_values, eig_vectors = eigs(L, k=k, which=\"SR\")\n",
        "    eig_vectors = eig_vectors.real\n",
        "\n",
        "    # 5) Kmeans to eigs\n",
        "    kmeans = KMeans(n_clusters=k)\n",
        "    kmeans.fit(eig_vectors)\n",
        "\n",
        "    # 6) Get clusters\n",
        "    clustering = {}\n",
        "    for i,node in enumerate(G.nodes()):\n",
        "      clustering[node] = kmeans.labels_[i]\n",
        "\n",
        "\n",
        "\n",
        "    return clustering"
      ],
      "metadata": {
        "id": "CjSxf3XAwxF3"
      },
      "execution_count": 11,
      "outputs": []
    },
    {
      "cell_type": "code",
      "source": [
        "clustering = spectral_clustering(gcc, 50)"
      ],
      "metadata": {
        "colab": {
          "base_uri": "https://localhost:8080/",
          "height": 141
        },
        "id": "FPLQP3h2wzKs",
        "outputId": "a69860e4-efc8-49cd-cd64-19f9f9e530c8"
      },
      "execution_count": 12,
      "outputs": [
        {
          "output_type": "error",
          "ename": "NameError",
          "evalue": "name 'gcc' is not defined",
          "traceback": [
            "\u001b[0;31m---------------------------------------------------------------------------\u001b[0m",
            "\u001b[0;31mNameError\u001b[0m                                 Traceback (most recent call last)",
            "\u001b[0;32m<ipython-input-12-a9bd9025c2e7>\u001b[0m in \u001b[0;36m<cell line: 1>\u001b[0;34m()\u001b[0m\n\u001b[0;32m----> 1\u001b[0;31m \u001b[0mclustering\u001b[0m \u001b[0;34m=\u001b[0m \u001b[0mspectral_clustering\u001b[0m\u001b[0;34m(\u001b[0m\u001b[0mgcc\u001b[0m\u001b[0;34m,\u001b[0m \u001b[0;36m50\u001b[0m\u001b[0;34m)\u001b[0m\u001b[0;34m\u001b[0m\u001b[0;34m\u001b[0m\u001b[0m\n\u001b[0m",
            "\u001b[0;31mNameError\u001b[0m: name 'gcc' is not defined"
          ]
        }
      ]
    },
    {
      "cell_type": "code",
      "source": [
        "# Read training data\n",
        "train_papers = list()\n",
        "y_train = list()\n",
        "with open(\"/content/drive/MyDrive/y_train.txt\", \"r\") as f:\n",
        "    for line in f:\n",
        "        t = line.split(',')\n",
        "        train_papers.append(int(t[0]))\n",
        "        y_train.append(int(t[1][:-1]))"
      ],
      "metadata": {
        "id": "2cSAGd3asmPJ"
      },
      "execution_count": null,
      "outputs": []
    },
    {
      "cell_type": "code",
      "source": [
        "# Read test data\n",
        "test_papers = list()\n",
        "with open(\"/content/drive/MyDrive/test.txt\", \"r\") as f:\n",
        "    for line in f:\n",
        "        t = line.split(',')\n",
        "        test_papers.append(int(t[0]))"
      ],
      "metadata": {
        "id": "vYHZT4caspra"
      },
      "execution_count": null,
      "outputs": []
    },
    {
      "cell_type": "code",
      "source": [
        "# Create the training matrix. Each row corresponds to a research paper.\n",
        "# Use the following 3 features for each paper:\n",
        "# (1) out-degree of node\n",
        "# (2) in-degree of node\n",
        "# (3) average degree of neighborhood of node\n",
        "core_nums = nx.core_number(G.to_undirected())\n",
        "X_train = np.zeros((len(train_papers), 3))\n",
        "#avg_neig_deg = nx.average_neighbor_degree(G, nodes=train_papers)\n",
        "for i in range(len(train_papers)):\n",
        "    X_train[i,0] = G.in_degree(train_papers[i])\n",
        "    X_train[i,1] = G.out_degree(train_papers[i])\n",
        "    X_train[i,2] = core_nums[train_papers[i]]"
      ],
      "metadata": {
        "id": "O2rI7wc2stCD"
      },
      "execution_count": null,
      "outputs": []
    },
    {
      "cell_type": "code",
      "source": [
        "# Create the test matrix. Use the same 3 features as above\n",
        "X_test = np.zeros((len(test_papers), 3))\n",
        "#avg_neig_deg = nx.average_neighbor_degree(G, nodes=test_papers)\n",
        "for i in range(len(test_papers)):\n",
        "    X_test[i,0] = G.in_degree(test_papers[i])\n",
        "    X_test[i,1] = G.out_degree(test_papers[i])\n",
        "    X_test[i,2] = core_nums[test_papers[i]]\n",
        "\n",
        "print(\"Train matrix dimension: \", X_train.shape)\n",
        "print(\"Test matrix dimension: \", X_test.shape)"
      ],
      "metadata": {
        "colab": {
          "base_uri": "https://localhost:8080/"
        },
        "id": "vt3tmhkysyai",
        "outputId": "a241fbf1-5524-4ef6-cd5c-9291516732f3"
      },
      "execution_count": null,
      "outputs": [
        {
          "output_type": "stream",
          "name": "stdout",
          "text": [
            "Train matrix dimension:  (35163, 3)\n",
            "Test matrix dimension:  (4023, 3)\n"
          ]
        }
      ]
    },
    {
      "cell_type": "code",
      "source": [
        "# Use logistic regression to classify the research papers of the test set\n",
        "clf = LogisticRegression()\n",
        "clf.fit(X_train, y_train)\n",
        "y_pred = clf.predict(X_test)\n",
        "y_pred_proba = clf.predict_proba(X_test)"
      ],
      "metadata": {
        "colab": {
          "base_uri": "https://localhost:8080/"
        },
        "id": "6OJjaujms134",
        "outputId": "a8cf8b8e-cbe1-40c6-b4c5-9cdd98c4876d"
      },
      "execution_count": null,
      "outputs": [
        {
          "output_type": "stream",
          "name": "stderr",
          "text": [
            "/usr/local/lib/python3.10/dist-packages/sklearn/linear_model/_logistic.py:458: ConvergenceWarning: lbfgs failed to converge (status=1):\n",
            "STOP: TOTAL NO. of ITERATIONS REACHED LIMIT.\n",
            "\n",
            "Increase the number of iterations (max_iter) or scale the data as shown in:\n",
            "    https://scikit-learn.org/stable/modules/preprocessing.html\n",
            "Please also refer to the documentation for alternative solver options:\n",
            "    https://scikit-learn.org/stable/modules/linear_model.html#logistic-regression\n",
            "  n_iter_i = _check_optimize_result(\n"
          ]
        }
      ]
    },
    {
      "cell_type": "code",
      "source": [
        "# Compute accuracy and log loss\n",
        "y_test = np.loadtxt('/content/drive/MyDrive/y_test_proba.txt', dtype=int, delimiter=',')\n",
        "y_test = np.argmax(y_test[:,1:], axis=1)\n",
        "\n",
        "print('Accuracy:', accuracy_score(y_test, y_pred))\n",
        "print('Log loss:', log_loss(y_test, y_pred_proba))"
      ],
      "metadata": {
        "colab": {
          "base_uri": "https://localhost:8080/"
        },
        "id": "sdIyhcVwow5k",
        "outputId": "343ddbc8-1c00-4ab0-de9d-1f83734b4c96"
      },
      "execution_count": null,
      "outputs": [
        {
          "output_type": "stream",
          "name": "stdout",
          "text": [
            "Accuracy: 0.40939597315436244\n",
            "Log loss: 1.3963189139823118\n"
          ]
        }
      ]
    }
  ]
}